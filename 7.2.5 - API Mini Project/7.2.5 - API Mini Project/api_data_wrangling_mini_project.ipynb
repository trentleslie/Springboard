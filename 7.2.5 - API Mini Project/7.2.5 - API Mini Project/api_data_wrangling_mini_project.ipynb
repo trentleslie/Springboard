{
 "cells": [
  {
   "cell_type": "markdown",
   "source": [
    "This exercise will require you to pull some data from the Qunadl API. Qaundl is currently the most widely used aggregator of financial market data."
   ],
   "metadata": {}
  },
  {
   "cell_type": "markdown",
   "source": [
    "As a first step, you will need to register a free account on the http://www.quandl.com website."
   ],
   "metadata": {}
  },
  {
   "cell_type": "markdown",
   "source": [
    "After you register, you will be provided with a unique API key, that you should store:"
   ],
   "metadata": {}
  },
  {
   "cell_type": "code",
   "execution_count": 2,
   "source": [
    "# Store the API key as a string - according to PEP8, constants are always named in all upper case\r\n",
    "API_KEY = ''"
   ],
   "outputs": [],
   "metadata": {
    "collapsed": true,
    "jupyter": {
     "outputs_hidden": true
    }
   }
  },
  {
   "cell_type": "markdown",
   "source": [
    "Qaundl has a large number of data sources, but, unfortunately, most of them require a Premium subscription. Still, there are also a good number of free datasets."
   ],
   "metadata": {}
  },
  {
   "cell_type": "markdown",
   "source": [
    "For this mini project, we will focus on equities data from the Frankfurt Stock Exhange (FSE), which is available for free. We'll try and analyze the stock prices of a company called Carl Zeiss Meditec, which manufactures tools for eye examinations, as well as medical lasers for laser eye surgery: https://www.zeiss.com/meditec/int/home.html. The company is listed under the stock ticker AFX_X."
   ],
   "metadata": {}
  },
  {
   "cell_type": "markdown",
   "source": [
    "You can find the detailed Quandl API instructions here: https://docs.quandl.com/docs/time-series"
   ],
   "metadata": {}
  },
  {
   "cell_type": "markdown",
   "source": [
    "While there is a dedicated Python package for connecting to the Quandl API, we would prefer that you use the *requests* package, which can be easily downloaded using *pip* or *conda*. You can find the documentation for the package here: http://docs.python-requests.org/en/master/ "
   ],
   "metadata": {}
  },
  {
   "cell_type": "markdown",
   "source": [
    "Finally, apart from the *requests* package, you are encouraged to not use any third party Python packages, such as *pandas*, and instead focus on what's available in the Python Standard Library (the *collections* module might come in handy: https://pymotw.com/3/collections/ ).\r\n",
    "Also, since you won't have access to DataFrames, you are encouraged to us Python's native data structures - preferably dictionaries, though some questions can also be answered using lists.\r\n",
    "You can read more on these data structures here: https://docs.python.org/3/tutorial/datastructures.html"
   ],
   "metadata": {}
  },
  {
   "cell_type": "markdown",
   "source": [
    "Keep in mind that the JSON responses you will be getting from the API map almost one-to-one to Python's dictionaries. Unfortunately, they can be very nested, so make sure you read up on indexing dictionaries in the documentation provided above."
   ],
   "metadata": {}
  },
  {
   "cell_type": "code",
   "execution_count": 3,
   "source": [
    "# First, import the relevant modules\r\n",
    "import requests\r\n",
    "import json"
   ],
   "outputs": [],
   "metadata": {
    "collapsed": true,
    "jupyter": {
     "outputs_hidden": true
    }
   }
  },
  {
   "cell_type": "markdown",
   "source": [
    "Note: API's can change a bit with each version, for this exercise it is reccomended to use the \"V3\" quandl api at `https://www.quandl.com/api/v3/`"
   ],
   "metadata": {}
  },
  {
   "cell_type": "code",
   "execution_count": 4,
   "source": [
    "# Now, call the Quandl API and pull out a small sample of the data (only one day) to get a glimpse\r\n",
    "# into the JSON structure that will be returned\r\n",
    "url = \"https://www.quandl.com/api/v3/datasets/FSE/AFX_X.json?start_date=2017-08-03&end_date=2017-08-03&api_key=\" + API_KEY\r\n",
    "r = requests.get(url)\r\n",
    "print(r.text)"
   ],
   "outputs": [
    {
     "output_type": "stream",
     "name": "stdout",
     "text": [
      "{\"dataset\":{\"id\":10095370,\"dataset_code\":\"AFX_X\",\"database_code\":\"FSE\",\"name\":\"Carl Zeiss Meditec (AFX_X)\",\"description\":\"Stock Prices for Carl Zeiss Meditec (2020-11-02) from the Frankfurt Stock Exchange.\\u003cbr\\u003e\\u003cbr\\u003eTrading System: Xetra\\u003cbr\\u003e\\u003cbr\\u003eISIN: DE0005313704\",\"refreshed_at\":\"2020-12-01T14:48:09.907Z\",\"newest_available_date\":\"2020-12-01\",\"oldest_available_date\":\"2000-06-07\",\"column_names\":[\"Date\",\"Open\",\"High\",\"Low\",\"Close\",\"Change\",\"Traded Volume\",\"Turnover\",\"Last Price of the Day\",\"Daily Traded Units\",\"Daily Turnover\"],\"frequency\":\"daily\",\"type\":\"Time Series\",\"premium\":false,\"limit\":null,\"transform\":null,\"column_index\":null,\"start_date\":\"2017-08-03\",\"end_date\":\"2017-08-03\",\"data\":[[\"2017-08-03\",45.34,45.54,44.91,44.97,null,77854.0,3517146.0,null,null,null]],\"collapse\":null,\"order\":null,\"database_id\":6129}}\n"
     ]
    }
   ],
   "metadata": {
    "collapsed": true,
    "jupyter": {
     "outputs_hidden": true
    }
   }
  },
  {
   "cell_type": "code",
   "execution_count": 5,
   "source": [
    "# Inspect the JSON structure of the object you created, and take note of how nested it is,\r\n",
    "# as well as the overall structure\r\n",
    "\r\n",
    "print(r.json())"
   ],
   "outputs": [
    {
     "output_type": "stream",
     "name": "stdout",
     "text": [
      "{'dataset': {'id': 10095370, 'dataset_code': 'AFX_X', 'database_code': 'FSE', 'name': 'Carl Zeiss Meditec (AFX_X)', 'description': 'Stock Prices for Carl Zeiss Meditec (2020-11-02) from the Frankfurt Stock Exchange.<br><br>Trading System: Xetra<br><br>ISIN: DE0005313704', 'refreshed_at': '2020-12-01T14:48:09.907Z', 'newest_available_date': '2020-12-01', 'oldest_available_date': '2000-06-07', 'column_names': ['Date', 'Open', 'High', 'Low', 'Close', 'Change', 'Traded Volume', 'Turnover', 'Last Price of the Day', 'Daily Traded Units', 'Daily Turnover'], 'frequency': 'daily', 'type': 'Time Series', 'premium': False, 'limit': None, 'transform': None, 'column_index': None, 'start_date': '2017-08-03', 'end_date': '2017-08-03', 'data': [['2017-08-03', 45.34, 45.54, 44.91, 44.97, None, 77854.0, 3517146.0, None, None, None]], 'collapse': None, 'order': None, 'database_id': 6129}}\n"
     ]
    }
   ],
   "metadata": {
    "collapsed": true,
    "jupyter": {
     "outputs_hidden": true
    }
   }
  },
  {
   "cell_type": "markdown",
   "source": [
    "These are your tasks for this mini project:\n",
    "\n",
    "1. Collect data from the Franfurt Stock Exchange, for the ticker AFX_X, for the whole year 2017 (keep in mind that the date format is YYYY-MM-DD).\n",
    "2. Convert the returned JSON object into a Python dictionary.\n",
    "3. Calculate what the highest and lowest opening prices were for the stock in this period.\n",
    "4. What was the largest change in any one day (based on High and Low price)?\n",
    "5. What was the largest change between any two days (based on Closing Price)?\n",
    "6. What was the average daily trading volume during this year?\n",
    "7. (Optional) What was the median trading volume during this year. (Note: you may need to implement your own function for calculating the median.)"
   ],
   "metadata": {}
  },
  {
   "cell_type": "code",
   "execution_count": 7,
   "source": [
    "# 1\r\n",
    "url = \"https://www.quandl.com/api/v3/datasets/FSE/AFX_X.json?start_date=2017-01-01&end_date=2017-12-31&api_key=\" + API_KEY\r\n",
    "r = requests.get(url)\r\n",
    "print(r.json().keys())\r\n"
   ],
   "outputs": [
    {
     "output_type": "stream",
     "name": "stdout",
     "text": [
      "dict_keys(['dataset'])\n"
     ]
    }
   ],
   "metadata": {
    "collapsed": true,
    "jupyter": {
     "outputs_hidden": true
    }
   }
  },
  {
   "cell_type": "code",
   "execution_count": 51,
   "source": [
    "# 2\r\n",
    "afx_dict = r.json()['dataset']\r\n",
    "print(afx_dict.keys())\r\n",
    "print(afx_dict['data'][:3])"
   ],
   "outputs": [
    {
     "output_type": "stream",
     "name": "stdout",
     "text": [
      "dict_keys(['id', 'dataset_code', 'database_code', 'name', 'description', 'refreshed_at', 'newest_available_date', 'oldest_available_date', 'column_names', 'frequency', 'type', 'premium', 'limit', 'transform', 'column_index', 'start_date', 'end_date', 'data', 'collapse', 'order', 'database_id'])\n",
      "[['2017-12-29', 51.76, 51.94, 51.45, 51.76, None, 34640.0, 1792304.0, None, None, None], ['2017-12-28', 51.65, 51.82, 51.43, 51.6, None, 40660.0, 2099024.0, None, None, None], ['2017-12-27', 51.45, 51.89, 50.76, 51.82, None, 57452.0, 2957018.0, None, None, None]]\n"
     ]
    }
   ],
   "metadata": {}
  },
  {
   "cell_type": "code",
   "execution_count": 52,
   "source": [
    "# 3\r\n",
    "open_prices = []\r\n",
    "high_prices = []\r\n",
    "low_prices = []\r\n",
    "close_prices = []\r\n",
    "all_prices = []\r\n",
    "for day_list in afx_dict['data']:\r\n",
    "    if day_list[1] is not None:\r\n",
    "        open_prices.append(day_list[1])\r\n",
    "        all_prices.append(day_list[1])\r\n",
    "    if day_list[2] is not None:\r\n",
    "        high_prices.append(day_list[2])\r\n",
    "        all_prices.append(day_list[2])\r\n",
    "    if day_list[3] is not None:\r\n",
    "        low_prices.append(day_list[3])\r\n",
    "        all_prices.append(day_list[3])\r\n",
    "    if day_list[4] is not None:\r\n",
    "        close_prices.append(day_list[4])\r\n",
    "        all_prices.append(day_list[4])\r\n",
    "\r\n",
    "print(\"Highest Price: $\" + str(max(all_prices)))\r\n",
    "print(\"Double Check Highest Price: $\" + str(max(high_prices)))\r\n",
    "print(\"Lowest Price: $\" + str(min(all_prices)))\r\n",
    "print(\"Double Check Lowest Price: $\" + str(min(low_prices)))"
   ],
   "outputs": [
    {
     "output_type": "stream",
     "name": "stdout",
     "text": [
      "Highest Price: $53.54\n",
      "Double Check Highest Price: $53.54\n",
      "Lowest Price: $33.62\n",
      "Double Check Lowest Price: $33.62\n"
     ]
    }
   ],
   "metadata": {}
  },
  {
   "cell_type": "code",
   "execution_count": 54,
   "source": [
    "#4\r\n",
    "price_dict = {}\r\n",
    "\r\n",
    "for day_list in afx_dict['data']:\r\n",
    "    price_dict[day_list[0]] = {'open':day_list[1], 'high':day_list[2], 'low':day_list[3], 'close':day_list[4]}\r\n",
    "\r\n",
    "diffs = []\r\n",
    "diffs_pct = []\r\n",
    "for day in price_dict:\r\n",
    "    diffs.append(price_dict[day]['high'] - price_dict[day]['low'])\r\n",
    "    diffs_pct.append((price_dict[day]['high'] - price_dict[day]['low']) / price_dict[day]['close'] * 100)\r\n",
    "\r\n",
    "print(\"Max Dollar Change: $\" + str(round(max(diffs),2)))\r\n",
    "print(\"Max Change % (Based on Close): \" + str(round(max(diffs_pct),2)) + '%')"
   ],
   "outputs": [
    {
     "output_type": "stream",
     "name": "stdout",
     "text": [
      "Max Dollar Change: $2.81\n",
      "Max Change % (Based on Close): 6.24%\n"
     ]
    }
   ],
   "metadata": {}
  },
  {
   "cell_type": "code",
   "execution_count": 56,
   "source": [
    "#5\r\n",
    "day_change = []\r\n",
    "day_change_pct = []\r\n",
    "for index, day_list in enumerate(afx_dict['data']):\r\n",
    "    if index < len(afx_dict['data'])-1:\r\n",
    "        today_closing_price = day_list[4]\r\n",
    "        yesterday_closing_price = afx_dict['data'][index + 1][4]\r\n",
    "        try:\r\n",
    "            day_change.append(today_closing_price - yesterday_closing_price)\r\n",
    "        except:\r\n",
    "            print('Something went wrong with dollar change on ' + day_list[0] + '.')\r\n",
    "        try:\r\n",
    "            day_change_pct.append((today_closing_price - yesterday_closing_price) / yesterday_closing_price * 100)\r\n",
    "        except:\r\n",
    "            print('Something went wrong with percent change on ' + day_list[0] + '.')\r\n",
    "\r\n",
    "print(\"Max Daily Dollar Gain: $\" + str(round(max(day_change),2)))\r\n",
    "print(\"Max Daily Dollar Loss: $\" + str(round(min(day_change),2)))\r\n",
    "print(\"Max Daily % Gain: \" + str(round(max(day_change_pct),2)) + '%')\r\n",
    "print(\"Max Daily % Loss: \" + str(round(min(day_change_pct),2)) + '%')\r\n"
   ],
   "outputs": [
    {
     "output_type": "stream",
     "name": "stdout",
     "text": [
      "Max Daily Dollar Gain: $1.72\n",
      "Max Daily Dollar Loss: $-2.56\n",
      "Max Daily % Gain: 3.99%\n",
      "Max Daily % Loss: -5.77%\n"
     ]
    }
   ],
   "metadata": {}
  },
  {
   "cell_type": "code",
   "execution_count": 60,
   "source": [
    "#6\r\n",
    "all_volumes = []\r\n",
    "for day_list in afx_dict['data']:\r\n",
    "    if day_list[6] is not None:\r\n",
    "        all_volumes.append(day_list[6])\r\n",
    "\r\n",
    "print('Average Trading Volume: ' + str(round(sum(all_volumes)/len(all_volumes))))"
   ],
   "outputs": [
    {
     "output_type": "stream",
     "name": "stdout",
     "text": [
      "Average Trading Volume: 89124\n"
     ]
    }
   ],
   "metadata": {}
  },
  {
   "cell_type": "code",
   "execution_count": 71,
   "source": [
    "#7\r\n",
    "all_volumes.sort()\r\n",
    "if len(all_volumes) %2 == 0:\r\n",
    "    volume_median = (all_volumes[int(len(all_volumes)/2)] + all_volumes[int(len(all_volumes)/2 - 1)]) / 2\r\n",
    "if len(all_volumes) %2 == 1:\r\n",
    "    volume_median = all_volumes[int(len(all_volumes)/2)]\r\n",
    "\r\n",
    "print('Median Trading Volume: ' + str(round(volume_median)))"
   ],
   "outputs": [
    {
     "output_type": "stream",
     "name": "stdout",
     "text": [
      "Median Trading Volume: 76286\n"
     ]
    }
   ],
   "metadata": {}
  }
 ],
 "metadata": {
  "kernelspec": {
   "name": "python3",
   "display_name": "Python 3.8.10 64-bit ('Springboard': conda)"
  },
  "language_info": {
   "codemirror_mode": {
    "name": "ipython",
    "version": 3
   },
   "file_extension": ".py",
   "mimetype": "text/x-python",
   "name": "python",
   "nbconvert_exporter": "python",
   "pygments_lexer": "ipython3",
   "version": "3.8.10"
  },
  "interpreter": {
   "hash": "5aba52893a57ee58c7bf441bea12636afd893df5c52c2aeb773e3c18226953a5"
  }
 },
 "nbformat": 4,
 "nbformat_minor": 4
}