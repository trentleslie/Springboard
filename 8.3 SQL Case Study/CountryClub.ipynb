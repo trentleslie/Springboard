{
 "cells": [
  {
   "cell_type": "code",
   "execution_count": 2,
   "source": [
    "import pandas as pd\r\n",
    "import sqlite3"
   ],
   "outputs": [],
   "metadata": {}
  },
  {
   "cell_type": "code",
   "execution_count": 3,
   "source": [
    "conn = sqlite3.connect(\"./sqlite_db_pythonsqlite.db\")"
   ],
   "outputs": [],
   "metadata": {}
  },
  {
   "cell_type": "code",
   "execution_count": 4,
   "source": [
    "cur = conn.cursor()"
   ],
   "outputs": [],
   "metadata": {}
  },
  {
   "cell_type": "code",
   "execution_count": 12,
   "source": [
    "qry10 = \"\"\"SELECT sub.name, SUM(sub.inner_total_revenue) AS total_revenue\r\n",
    "FROM\r\n",
    "(SELECT Facilities.name, SUM(Facilities.guestcost * Bookings.slots) AS inner_total_revenue\r\n",
    "FROM Bookings\r\n",
    "INNER JOIN Facilities ON Facilities.facid = Bookings.facid\r\n",
    "INNER JOIN Members ON Members.memid = Bookings.memid\r\n",
    "WHERE Members.memid = 0\r\n",
    "GROUP BY Facilities.name\r\n",
    "UNION ALL\r\n",
    "SELECT Facilities.name, SUM(Facilities.membercost * Bookings.slots) AS total_revenue\r\n",
    "FROM Bookings\r\n",
    "INNER JOIN Facilities ON Facilities.facid = Bookings.facid\r\n",
    "INNER JOIN Members ON Members.memid = Bookings.memid\r\n",
    "WHERE Members.memid > 0\r\n",
    "GROUP BY Facilities.name) AS sub\r\n",
    "GROUP BY sub.name\r\n",
    "HAVING SUM(sub.inner_total_revenue) < 1000\r\n",
    "ORDER BY SUM(sub.inner_total_revenue)\"\"\"\r\n",
    "\r\n",
    "cur.execute(qry10)\r\n",
    "results = cur.fetchall()\r\n",
    "print(pd.DataFrame(results, columns=['Facility','Revenue']))"
   ],
   "outputs": [
    {
     "output_type": "stream",
     "name": "stdout",
     "text": [
      "        Facility  Revenue\n",
      "0   Table Tennis      180\n",
      "1  Snooker Table      240\n",
      "2     Pool Table      270\n"
     ]
    }
   ],
   "metadata": {}
  },
  {
   "cell_type": "code",
   "execution_count": 11,
   "source": [
    "qry11 = \"\"\"SELECT M1.surname || \", \" || M1.firstname AS member_name, \r\n",
    "CASE WHEN M1.recommendedby > 0 THEN M2.surname || \", \" || M2.firstname\r\n",
    "ELSE \"None\" END AS reco_by\r\n",
    "FROM Members AS M1\r\n",
    "INNER JOIN Members AS M2 ON M2.memid = M1.recommendedby\r\n",
    "WHERE M1.memid > 0\r\n",
    "ORDER BY member_name\"\"\"\r\n",
    "\r\n",
    "cur.execute(qry11)\r\n",
    "results = cur.fetchall()\r\n",
    "print(pd.DataFrame(results, columns=['Member','Recommended By']))"
   ],
   "outputs": [
    {
     "output_type": "stream",
     "name": "stdout",
     "text": [
      "                      Member      Recommended By\n",
      "0            Bader, Florence    Stibbons, Ponder\n",
      "1                Baker, Anne    Stibbons, Ponder\n",
      "2             Baker, Timothy     Farrell, Jemima\n",
      "3                Boothe, Tim         Rownam, Tim\n",
      "4            Butters, Gerald       Smith, Darren\n",
      "5               Coplin, Joan      Baker, Timothy\n",
      "6             Crumpet, Erica        Smith, Tracy\n",
      "7                Dare, Nancy    Joplette, Janice\n",
      "8           Genting, Matthew     Butters, Gerald\n",
      "9                 Hunt, John  Purview, Millicent\n",
      "10              Jones, David    Joplette, Janice\n",
      "11            Jones, Douglas        Jones, David\n",
      "12          Joplette, Janice       Smith, Darren\n",
      "13           Mackenzie, Anna       Smith, Darren\n",
      "14             Owen, Charles       Smith, Darren\n",
      "15             Pinker, David     Farrell, Jemima\n",
      "16        Purview, Millicent        Smith, Tracy\n",
      "17         Rumney, Henrietta    Genting, Matthew\n",
      "18         Sarwin, Ramnaresh     Bader, Florence\n",
      "19               Smith, Jack       Smith, Darren\n",
      "20          Stibbons, Ponder       Tracy, Burton\n",
      "21  Worthington-Smyth, Henry        Smith, Tracy\n"
     ]
    }
   ],
   "metadata": {}
  },
  {
   "cell_type": "code",
   "execution_count": 15,
   "source": [
    "qry12 = \"\"\"SELECT Members.surname || \", \" || Members.firstname AS member_name, Facilities.name, ROUND(SUM(Bookings.slots)/2,1) AS hours_use\r\n",
    "FROM Bookings\r\n",
    "INNER JOIN Members ON Bookings.memid = Members.memid\r\n",
    "INNER JOIN Facilities ON Facilities.facid = Bookings.facid\r\n",
    "WHERE Members.memid > 0\r\n",
    "GROUP BY Members.memid, Facilities.facid\r\n",
    "ORDER BY member_name, Facilities.name\"\"\"\r\n",
    "\r\n",
    "cur.execute(qry12)\r\n",
    "results = cur.fetchall()\r\n",
    "print(pd.DataFrame(results, columns=['Member','Facility', 'Hours of Use']))"
   ],
   "outputs": [
    {
     "output_type": "stream",
     "name": "stdout",
     "text": [
      "                       Member         Facility  Hours of Use\n",
      "0             Bader, Florence  Badminton Court          13.0\n",
      "1             Bader, Florence   Massage Room 2           2.0\n",
      "2             Bader, Florence       Pool Table          11.0\n",
      "3             Bader, Florence    Snooker Table          33.0\n",
      "4             Bader, Florence     Squash Court           2.0\n",
      "..                        ...              ...           ...\n",
      "197      Tupperware, Hyacinth     Squash Court           1.0\n",
      "198  Worthington-Smyth, Henry  Badminton Court           7.0\n",
      "199  Worthington-Smyth, Henry   Massage Room 1           1.0\n",
      "200  Worthington-Smyth, Henry       Pool Table          18.0\n",
      "201  Worthington-Smyth, Henry     Table Tennis           3.0\n",
      "\n",
      "[202 rows x 3 columns]\n"
     ]
    }
   ],
   "metadata": {}
  },
  {
   "cell_type": "code",
   "execution_count": 18,
   "source": [
    "qry13 = \"\"\"SELECT Facilities.name, strftime('%m', Bookings.starttime) AS month, sum(Bookings.slots)/2 AS hours_use\r\n",
    "FROM Bookings\r\n",
    "INNER JOIN Members ON Bookings.memid = Members.memid\r\n",
    "INNER JOIN Facilities ON Facilities.facid = Bookings.facid\r\n",
    "WHERE Members.memid > 0\r\n",
    "GROUP BY Facilities.facid, strftime('%m', Bookings.starttime)\r\n",
    "ORDER BY Facilities.name, month DESC\"\"\"\r\n",
    "\r\n",
    "cur.execute(qry13)\r\n",
    "results = cur.fetchall()\r\n",
    "print(pd.DataFrame(results, columns=['Facility', 'Month', 'Hours of Use']))"
   ],
   "outputs": [
    {
     "output_type": "stream",
     "name": "stdout",
     "text": [
      "           Facility Month  Hours of Use\n",
      "0   Badminton Court    09           253\n",
      "1   Badminton Court    08           207\n",
      "2   Badminton Court    07            82\n",
      "3    Massage Room 1    09           201\n",
      "4    Massage Room 1    08           158\n",
      "5    Massage Room 1    07            83\n",
      "6    Massage Room 2    09            14\n",
      "7    Massage Room 2    08             9\n",
      "8    Massage Room 2    07             4\n",
      "9        Pool Table    09           221\n",
      "10       Pool Table    08           151\n",
      "11       Pool Table    07            55\n",
      "12    Snooker Table    09           202\n",
      "13    Snooker Table    08           158\n",
      "14    Snooker Table    07            70\n",
      "15     Squash Court    09            92\n",
      "16     Squash Court    08            92\n",
      "17     Squash Court    07            25\n",
      "18     Table Tennis    09           200\n",
      "19     Table Tennis    08           148\n",
      "20     Table Tennis    07            49\n",
      "21   Tennis Court 1    09           208\n",
      "22   Tennis Court 1    08           169\n",
      "23   Tennis Court 1    07           100\n",
      "24   Tennis Court 2    09           207\n",
      "25   Tennis Court 2    08           172\n",
      "26   Tennis Court 2    07            61\n"
     ]
    }
   ],
   "metadata": {}
  },
  {
   "cell_type": "code",
   "execution_count": null,
   "source": [],
   "outputs": [],
   "metadata": {}
  }
 ],
 "metadata": {
  "orig_nbformat": 4,
  "language_info": {
   "name": "python",
   "version": "3.8.10",
   "mimetype": "text/x-python",
   "codemirror_mode": {
    "name": "ipython",
    "version": 3
   },
   "pygments_lexer": "ipython3",
   "nbconvert_exporter": "python",
   "file_extension": ".py"
  },
  "kernelspec": {
   "name": "python3",
   "display_name": "Python 3.8.10 64-bit ('Springboard': conda)"
  },
  "interpreter": {
   "hash": "5aba52893a57ee58c7bf441bea12636afd893df5c52c2aeb773e3c18226953a5"
  }
 },
 "nbformat": 4,
 "nbformat_minor": 2
}