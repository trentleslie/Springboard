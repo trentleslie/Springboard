{
 "cells": [
  {
   "cell_type": "markdown",
   "source": [
    "## Cosine Similarity Calculations\n",
    "Cosine similarity is a measure of similarity between two non-zero vectors of an inner product space that measures the cosine of the angle between them. Similarity measures have a multiude of uses in machine learning projects; they come in handy when matching strings, measuring distance, and extracting features. This similarity measurement is particularly concerned with orientation, rather than magnitude. \n",
    "In this case study, you'll use the cosine similarity to compare both a numeric data within a plane and a text dataset for string matching."
   ],
   "metadata": {
    "colab_type": "text",
    "id": "eNSkSfKvSXEE"
   }
  },
  {
   "cell_type": "markdown",
   "source": [
    "Load the Python modules, including cosine_similarity, from sklearn.metrics.pairwise"
   ],
   "metadata": {
    "colab_type": "text",
    "id": "USGZdZYoVu7A"
   }
  },
  {
   "cell_type": "code",
   "execution_count": 1,
   "source": [
    "import numpy as np\r\n",
    "import pandas as pd\r\n",
    "import matplotlib.pyplot as plt\r\n",
    "import matplotlib.cm as cm\r\n",
    "%matplotlib inline\r\n",
    "plt.style.use('ggplot')\r\n",
    "from scipy import spatial\r\n",
    "from sklearn.metrics.pairwise import cosine_similarity"
   ],
   "outputs": [],
   "metadata": {
    "colab": {},
    "colab_type": "code",
    "id": "_T-FTjWuSXEF"
   }
  },
  {
   "cell_type": "markdown",
   "source": [
    "**<font color='teal'> Load the distance dataset into a dataframe. </font>**"
   ],
   "metadata": {
    "colab_type": "text",
    "id": "woBv3-cmV1R6"
   }
  },
  {
   "cell_type": "code",
   "execution_count": null,
   "source": [],
   "outputs": [],
   "metadata": {
    "colab": {},
    "colab_type": "code",
    "id": "irpsaCuGSXEK"
   }
  },
  {
   "cell_type": "markdown",
   "source": [
    "### Cosine Similarity with clusters and numeric matrices\n",
    "\n",
    "All points in our dataset can be thought of as feature vectors. We illustrate it here as we display the __Cosine Similarity__ between each feature vector in the YZ plane and the [5, 5] vector we chose as reference. The sklearn.metrics.pairwise module provides an efficient way to compute the __cosine_similarity__ for large arrays from which we can compute the similarity."
   ],
   "metadata": {
    "colab_type": "text",
    "id": "WWd4xbk1SXEO"
   }
  },
  {
   "cell_type": "markdown",
   "source": [
    " **<font color='teal'> First, create a 2D and a 3D matrix from the dataframe. The 2D matrix should contain the 'Y' and 'Z' columns and the 3D matrix should contain the 'X','Y', and 'Z' columns.</font>**"
   ],
   "metadata": {
    "colab_type": "text",
    "id": "NeRvhNjLWaau"
   }
  },
  {
   "cell_type": "code",
   "execution_count": null,
   "source": [],
   "outputs": [],
   "metadata": {
    "colab": {},
    "colab_type": "code",
    "id": "aWkrVP8dWqZ-"
   }
  },
  {
   "cell_type": "markdown",
   "source": [
    "Calculate the cosine similarity for those matrices with reference planes of 5,5 and 5,5,5. Then subtract those measures from 1 in new features."
   ],
   "metadata": {
    "colab_type": "text",
    "id": "HlRZpDfzXJR9"
   }
  },
  {
   "cell_type": "code",
   "execution_count": null,
   "source": [
    "simCosine3D = 1. - cosine_similarity(mat, [[5,5,5]], 'cosine')\r\n",
    "simCosine = 1. - cosine_similarity(matYZ, [[5,5]], 'cosine')"
   ],
   "outputs": [],
   "metadata": {
    "colab": {},
    "colab_type": "code",
    "id": "QmKPcdIjSXEP"
   }
  },
  {
   "cell_type": "markdown",
   "source": [
    "Using the 2D matrix and the reference plane of (5,5) we can use a scatter plot to view the way the similarity is calculated using the Cosine angle."
   ],
   "metadata": {
    "colab_type": "text",
    "id": "EieVXBAcX0OU"
   }
  },
  {
   "cell_type": "code",
   "execution_count": null,
   "source": [
    "figCosine = plt.figure(figsize=[10,8])\r\n",
    "\r\n",
    "plt.scatter(df.Y, df.Z, c=simCosine[:,0], s=20)\r\n",
    "plt.plot([0,5],[0,5], '--', color='dimgray')\r\n",
    "plt.plot([0,3],[0,7.2], '--', color='dimgray')\r\n",
    "plt.text(0.7,2.6,r'$\\theta$ = 22.4 deg.', rotation=47, size=14)\r\n",
    "plt.ylim([0,10])\r\n",
    "plt.xlim([0,10])\r\n",
    "plt.xlabel('Y', size=14)\r\n",
    "plt.ylabel('Z', size=14)\r\n",
    "plt.title('Cosine Similarity')\r\n",
    "cb = plt.colorbar()\r\n",
    "cb.set_label('Similarity with (5,5)', size=14)\r\n",
    "\r\n",
    "#figCosine.savefig('similarity-cosine.png')"
   ],
   "outputs": [],
   "metadata": {
    "colab": {},
    "colab_type": "code",
    "id": "Oga4-0A6SXEY"
   }
  },
  {
   "cell_type": "markdown",
   "source": [
    "Now, plot the 3D matrix with the similarity and the reference plane, (5,5,5)."
   ],
   "metadata": {
    "colab_type": "text",
    "id": "h5EERbkYXioh"
   }
  },
  {
   "cell_type": "code",
   "execution_count": null,
   "source": [
    "from mpl_toolkits.mplot3d import Axes3D\r\n",
    "figCosine3D = plt.figure(figsize=(10, 8))\r\n",
    "ax = figCosine3D.add_subplot(111, projection='3d')\r\n",
    "\r\n",
    "p = ax.scatter(mat[:,0], mat[:,1], mat[:,2], c=simCosine3D[:,0])\r\n",
    "ax.set_xlabel('X')\r\n",
    "ax.set_ylabel('Y')\r\n",
    "ax.set_zlabel('Z')\r\n",
    "cb = figCosine3D.colorbar(p)\r\n",
    "cb.set_label('Similarity with (5,5,5)', size=14)\r\n",
    "                                   \r\n",
    "figCosine3D.tight_layout()\r\n",
    "#figCosine3D.savefig('cosine-3D.png', dpi=300, transparent=True)"
   ],
   "outputs": [],
   "metadata": {
    "colab": {},
    "colab_type": "code",
    "id": "-f3ZhgoQSXEV"
   }
  },
  {
   "cell_type": "markdown",
   "source": [
    "----"
   ],
   "metadata": {
    "colab_type": "text",
    "id": "_ysZ1wFMSXEt"
   }
  },
  {
   "cell_type": "markdown",
   "source": [
    "### Cosine Similarity with text data\n",
    "This is a quick example of how you can use Cosine Similarity to compare different text values or names for record matching or other natural language proecessing needs. \n",
    "First, we use count vectorizer to create a vector for each unique word in our Document 0 and Document 1. "
   ],
   "metadata": {
    "colab_type": "text",
    "id": "jGJ2vr60SXEu"
   }
  },
  {
   "cell_type": "code",
   "execution_count": null,
   "source": [
    "from sklearn.feature_extraction.text import CountVectorizer\r\n",
    "count_vect = CountVectorizer()\r\n",
    "Document1 = \"Starbucks Coffee\"\r\n",
    "Document2 = \"Essence of Coffee\"\r\n",
    "\r\n",
    "corpus = [Document1,Document2]\r\n",
    "\r\n",
    "X_train_counts = count_vect.fit_transform(corpus)\r\n",
    "\r\n",
    "pd.DataFrame(X_train_counts.toarray(),columns=count_vect.get_feature_names(),index=['Document 0','Document 1'])"
   ],
   "outputs": [],
   "metadata": {
    "colab": {},
    "colab_type": "code",
    "id": "7oSm7linSXEv"
   }
  },
  {
   "cell_type": "markdown",
   "source": [
    "Now, we use a common frequency tool called TF-IDF to convert the vectors to unique measures."
   ],
   "metadata": {
    "colab_type": "text",
    "id": "W99LBHobSXE1"
   }
  },
  {
   "cell_type": "code",
   "execution_count": null,
   "source": [
    "from sklearn.feature_extraction.text import TfidfVectorizer\r\n",
    "vectorizer = TfidfVectorizer()\r\n",
    "trsfm=vectorizer.fit_transform(corpus)\r\n",
    "pd.DataFrame(trsfm.toarray(),columns=vectorizer.get_feature_names(),index=['Document 0','Document 1'])"
   ],
   "outputs": [],
   "metadata": {
    "colab": {},
    "colab_type": "code",
    "id": "mA52-mj9SXE1"
   }
  },
  {
   "cell_type": "markdown",
   "source": [
    "Here, we finally apply the __Cosine Similarity__ measure to calculate how similar Document 0 is compared to any other document in the corpus. Therefore, the first value of 1 is showing that the Document 0 is 100% similar to Document 0 and 0.26055576 is the similarity measure between Document 0 and Document 1."
   ],
   "metadata": {
    "colab_type": "text",
    "id": "8T8ZOVnLSXE4"
   }
  },
  {
   "cell_type": "code",
   "execution_count": null,
   "source": [
    "cosine_similarity(trsfm[0:1], trsfm)"
   ],
   "outputs": [],
   "metadata": {
    "colab": {},
    "colab_type": "code",
    "id": "ZLbYTQfnSXE4"
   }
  },
  {
   "cell_type": "markdown",
   "source": [
    "Replace the current values for `Document 0` and `Document 1` with your own sentence or paragraph and apply the same steps as we did in the above example."
   ],
   "metadata": {
    "colab_type": "text",
    "id": "uSDf5EgJatlw"
   }
  },
  {
   "cell_type": "markdown",
   "source": [
    " **<font color='teal'> Combine the documents into a corpus.</font>**"
   ],
   "metadata": {
    "colab_type": "text",
    "id": "S9FESS0IbF9I"
   }
  },
  {
   "cell_type": "code",
   "execution_count": null,
   "source": [],
   "outputs": [],
   "metadata": {
    "colab": {},
    "colab_type": "code",
    "id": "7aVkjj-xczS-"
   }
  },
  {
   "cell_type": "markdown",
   "source": [
    " **<font color='teal'> Apply the count vectorizer to the corpus to transform it into vectors.</font>**"
   ],
   "metadata": {
    "colab_type": "text",
    "id": "Bng2fLV_bR-V"
   }
  },
  {
   "cell_type": "code",
   "execution_count": null,
   "source": [],
   "outputs": [],
   "metadata": {
    "colab": {},
    "colab_type": "code",
    "id": "FtW2_TcJczuh"
   }
  },
  {
   "cell_type": "markdown",
   "source": [
    " **<font color='teal'> Convert the vector counts to a dataframe with Pandas.</font>**"
   ],
   "metadata": {
    "colab_type": "text",
    "id": "55i9xWTYbc-r"
   }
  },
  {
   "cell_type": "code",
   "execution_count": null,
   "source": [],
   "outputs": [],
   "metadata": {
    "colab": {},
    "colab_type": "code",
    "id": "OaXsheskc0Ql"
   }
  },
  {
   "cell_type": "markdown",
   "source": [
    " **<font color='teal'> Apply TF-IDF to convert the vectors to unique frequency measures.</font>**"
   ],
   "metadata": {
    "colab_type": "text",
    "id": "dONg4uupcJAK"
   }
  },
  {
   "cell_type": "code",
   "execution_count": null,
   "source": [],
   "outputs": [],
   "metadata": {
    "colab": {},
    "colab_type": "code",
    "id": "o2z2p_kMc1mF"
   }
  },
  {
   "cell_type": "markdown",
   "source": [
    " **<font color='teal'> Use the cosine similarity function to get measures of similarity for the sentences or paragraphs in your original document.</font>**"
   ],
   "metadata": {
    "colab_type": "text",
    "id": "wd1JHVSxcl1D"
   }
  },
  {
   "cell_type": "code",
   "execution_count": null,
   "source": [],
   "outputs": [],
   "metadata": {
    "colab": {},
    "colab_type": "code",
    "id": "sJdk5sX5bcPO"
   }
  }
 ],
 "metadata": {
  "anaconda-cloud": {},
  "colab": {
   "name": "Cosine Similarity.ipynb",
   "provenance": []
  },
  "kernelspec": {
   "name": "python3",
   "display_name": "Python 3.8.10 64-bit ('Springboard': conda)"
  },
  "language_info": {
   "codemirror_mode": {
    "name": "ipython",
    "version": 3
   },
   "file_extension": ".py",
   "mimetype": "text/x-python",
   "name": "python",
   "nbconvert_exporter": "python",
   "pygments_lexer": "ipython3",
   "version": "3.8.10"
  },
  "interpreter": {
   "hash": "5aba52893a57ee58c7bf441bea12636afd893df5c52c2aeb773e3c18226953a5"
  }
 },
 "nbformat": 4,
 "nbformat_minor": 1
}