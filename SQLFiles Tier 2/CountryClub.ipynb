{
 "cells": [
  {
   "cell_type": "code",
   "execution_count": 6,
   "source": [
    "import pandas as pd\r\n",
    "import sqlite3"
   ],
   "outputs": [],
   "metadata": {}
  },
  {
   "cell_type": "code",
   "execution_count": 7,
   "source": [
    "conn = sqlite3.connect(\"./sqlite_db_pythonsqlite.db\")"
   ],
   "outputs": [],
   "metadata": {}
  },
  {
   "cell_type": "code",
   "execution_count": 8,
   "source": [
    "cur = conn.cursor()"
   ],
   "outputs": [],
   "metadata": {}
  },
  {
   "cell_type": "code",
   "execution_count": 9,
   "source": [
    "qry10 = \"\"\"SELECT sub.name, SUM(sub.inner_total_revenue) AS total_revenue\r\n",
    "FROM\r\n",
    "(SELECT Facilities.name, SUM(Facilities.guestcost * Bookings.slots) AS inner_total_revenue\r\n",
    "FROM Bookings\r\n",
    "INNER JOIN Facilities ON Facilities.facid = Bookings.facid\r\n",
    "INNER JOIN Members ON Members.memid = Bookings.memid\r\n",
    "WHERE Members.memid = 0\r\n",
    "GROUP BY Facilities.name\r\n",
    "UNION ALL\r\n",
    "SELECT Facilities.name, SUM(Facilities.membercost * Bookings.slots) AS total_revenue\r\n",
    "FROM Bookings\r\n",
    "INNER JOIN Facilities ON Facilities.facid = Bookings.facid\r\n",
    "INNER JOIN Members ON Members.memid = Bookings.memid\r\n",
    "WHERE Members.memid > 0\r\n",
    "GROUP BY Facilities.name) AS sub\r\n",
    "GROUP BY sub.name\r\n",
    "HAVING SUM(sub.inner_total_revenue) < 1000\r\n",
    "ORDER BY SUM(sub.inner_total_revenue)\"\"\"\r\n",
    "\r\n",
    "cur.execute(qry10)\r\n",
    "results = cur.fetchall()\r\n",
    "print(results)"
   ],
   "outputs": [
    {
     "output_type": "stream",
     "name": "stdout",
     "text": [
      "[('Table Tennis', 180), ('Snooker Table', 240), ('Pool Table', 270)]\n"
     ]
    }
   ],
   "metadata": {}
  },
  {
   "cell_type": "code",
   "execution_count": null,
   "source": [],
   "outputs": [],
   "metadata": {}
  }
 ],
 "metadata": {
  "orig_nbformat": 4,
  "language_info": {
   "name": "python",
   "version": "3.8.10",
   "mimetype": "text/x-python",
   "codemirror_mode": {
    "name": "ipython",
    "version": 3
   },
   "pygments_lexer": "ipython3",
   "nbconvert_exporter": "python",
   "file_extension": ".py"
  },
  "kernelspec": {
   "name": "python3",
   "display_name": "Python 3.8.10 64-bit ('Springboard': conda)"
  },
  "interpreter": {
   "hash": "5aba52893a57ee58c7bf441bea12636afd893df5c52c2aeb773e3c18226953a5"
  }
 },
 "nbformat": 4,
 "nbformat_minor": 2
}